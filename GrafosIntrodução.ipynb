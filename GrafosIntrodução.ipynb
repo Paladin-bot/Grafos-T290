{
  "nbformat": 4,
  "nbformat_minor": 0,
  "metadata": {
    "colab": {
      "provenance": [],
      "collapsed_sections": [],
      "authorship_tag": "ABX9TyNhUwQp7500rFXSxUe4DaCV",
      "include_colab_link": true
    },
    "kernelspec": {
      "name": "python3",
      "display_name": "Python 3"
    },
    "language_info": {
      "name": "python"
    }
  },
  "cells": [
    {
      "cell_type": "markdown",
      "metadata": {
        "id": "view-in-github",
        "colab_type": "text"
      },
      "source": [
        "<a href=\"https://colab.research.google.com/github/Paladin-bot/Grafos-T290/blob/main/GrafosIntrodu%C3%A7%C3%A3o.ipynb\" target=\"_parent\"><img src=\"https://colab.research.google.com/assets/colab-badge.svg\" alt=\"Open In Colab\"/></a>"
      ]
    },
    {
      "cell_type": "code",
      "execution_count": 1,
      "metadata": {
        "id": "wub81rC07me0"
      },
      "outputs": [],
      "source": [
        "class Graph:\n",
        "    #Construtor do Python  \n",
        "    def __init__(self, graph = None):\n",
        "        if graph is None:\n",
        "            graph = []\n",
        "        self.graph = graph\n",
        "    #Vertices\n",
        "    def get_vertices(self):\n",
        "        return list(self.graph.keys())\n",
        "    #Arestas\n",
        "    def get_edges(self):\n",
        "        edgename = []\n",
        "        for vertice in self.graph:\n",
        "            for i in self.graph[vertice]:\n",
        "                if {i, vertice} not in edgename:\n",
        "                    edgename.append({vertice, i})\n",
        "        return edgename\n",
        "    #Grau do Vértice:\n",
        "    def get_degree(self, vertice):\n",
        "      return len(self.graph[vertice])\n",
        "    # Caso de Mínimo\n",
        "    def min(self):\n",
        "        glist = list(self.graph)\n",
        "        aux = len(self.graph[glist[0]]) \n",
        "        auxString2 = []\n",
        "        auxString2.append(glist[0])\n",
        "        for i in self.get_vertices():\n",
        "            if(glist.index(i) + 1 < len(self.get_vertices())):\n",
        "                if aux > len(self.graph[glist[glist.index(i) + 1]]):\n",
        "                    aux = len(self.graph[glist[glist.index(i) + 1]])\n",
        "                    auxString2.clear()\n",
        "                    auxString2.append(glist[glist.index(i) + 1])\n",
        "                elif aux == len(self.graph[glist[glist.index(i) + 1]]):\n",
        "                    auxString2.append(glist[glist.index(i) + 1])\n",
        "        return auxString2\n",
        "    # Caso de Máximo:\n",
        "    def max(self):\n",
        "        glist = list(self.graph)\n",
        "        aux = len(self.graph[glist[0]]) \n",
        "        auxString2 = []\n",
        "        auxString2.append(glist[0])\n",
        "        for i in self.get_vertices():\n",
        "            if(glist.index(i) + 1 < len(self.get_vertices())):\n",
        "                if aux < len(self.graph[glist[glist.index(i) + 1]]):\n",
        "                    aux = len(self.graph[glist[glist.index(i) + 1]])\n",
        "                    auxString2.clear()\n",
        "                    auxString2.append(glist[glist.index(i) + 1])\n",
        "                elif aux == len(self.graph[glist[glist.index(i) + 1]]):\n",
        "                    auxString2.append(glist[glist.index(i) + 1])\n",
        "        return auxString2\n",
        "    # Mostrar conexões:\n",
        "    def show_edge(self, vertice):\n",
        "        glist = list(self.graph)\n",
        "        for i in vertice:\n",
        "          print(\"O estado do(a)\", i,\"faz conexoes com\", self.graph[glist[glist.index(i)]])\n",
        "    # Mostrar frequencias:\n",
        "    def show_freq(self):\n",
        "        Freq = []\n",
        "        Degree = []\n",
        "        msg = ''\n",
        "        aux = False\n",
        "        #Criar um array com o grau de todos os nós\n",
        "        for i in self.get_vertices():\n",
        "          Degree.append(len(self.graph[i])) \n",
        "        Freq.append([Degree[0], 1])\n",
        "        Degree.pop(0)\n",
        "        for j in Degree:\n",
        "          for k in Freq:\n",
        "            if j == k[0]:\n",
        "              aux = True\n",
        "              break\n",
        "          if aux:\n",
        "            k[1] += 1\n",
        "            aux = False\n",
        "          else:\n",
        "            pass\n",
        "            Freq.append([j, 1])\n",
        "        return sorted(Freq, key=lambda freq: freq[0])\n",
        "  \n",
        "\n"
      ]
    },
    {
      "cell_type": "code",
      "source": [
        "estados = { \n",
        "          \"Amapá\": [\"Pará\"],\n",
        "          \"Ceará\": [\"Rio Grande do Norte\", \"Paraíba\", \"Pernambuco\", \"Piauí\"],\n",
        "          \"Rio Grande do Norte\" : [\"Ceará\", \"Paraíba\"],\n",
        "          \"Paraíba\": [\"Rio Grande do Norte\", \"Ceará\", \"Pernambuco\"],\n",
        "          \"Sergipe\": [\"Sergipe\", \"Bahia\"],\n",
        "          \"Alagoas\":  [\"Pernambuco\", \"Sergipe\", \"Bahia\"],\n",
        "          \"Pernambuco\":  [\"Bahia\", \"Alagoas\", \"Paraíba\", \"Piauí\", \"Ceará\"],\n",
        "          \"Bahia\":  [\"Sergipe\", \"Alagoas\", \"Pernambuco\", \"Piauí\", \"Tocantis\", \"Goías\", \"Minas Gerais\", \"Espirito Santo\"],\n",
        "          \"Piauí\": [\"Ceará\", \"Pernambuco\", \"Bahia\", \"Maranhão\", \"Tocantins\"],\n",
        "          \"Maranhão\": [\"Piauí\", \"Tocantis\", \"Pará\"],\n",
        "          \"Pará\": [\"Amapá\", \"Roraima\", \"Amazonas\", \"Maranhão\", \"Tocantis\", \"Mato Grosso\"],\n",
        "          \"Roraima\": [\"Pará\", \"Amazonas\"],\n",
        "          \"Amazonas\": [\"Roraima\", \"Pará\", \"Acre\", \"Rondônia\", \"Mato Grosso\"],\n",
        "          \"Acre\": [\"Amazonas\", \"Rondônia\"],\n",
        "          \"Rondônia\": [\"Acre\", \"Amazonas\", \"Mato Grosso\"],\n",
        "          \"Tocantis\": [\"Maranhão\", \"Bahia\", \"Goías\", \"Mato Grosso\", \"Pará\", \"Piauí\"],\n",
        "          \"Mato Grosso\": [\"Rondônia\", \"Amazonas\", \"Pará\", \"Tocantis\", \"Goías\", \"Mato Grosso do Sul\"],\n",
        "          \"Goías\": [\"Tocantis\", \"Bahia\", \"Minas Gerais\", \"Mato Grosso do Sul\", \"Mato Grosso\"],\n",
        "          \"Mato Grosso do Sul\": [\"Mato Grosso\", \"Goías\", \"Minas Gerais\", \"São Paulo\", \"Paraná\"],\n",
        "          \"Minas Gerais\": [\"Rio de Janeiro\", \"Espirito Santo\", \"Bahia\", \"Goías\", \"Mato Grosso do Sul\", \"São Paulo\", \"Distrito Federal\"],\n",
        "          \"Espirito Santo\": [\"Bahia\", \"Minas Gerais\", \"Rio de Janeiro\"],\n",
        "          \"Rio de Janeiro\": [\"Espirito Santo\", \"Minas Gerais\", \"São Paulo\"],\n",
        "          \"São Paulo\": [\"Rio de Janeiro\", \"Minas Gerais\", \"Mato Grosso do Sul\", \"Paraná\"],\n",
        "          \"Paraná\": [\"São Paulo\", \"Mato Grosso do Sul\", \"Santa Catarina\"],\n",
        "          \"Santa Catarina\": [\"Paraná\", \"Rio Grande do Sul\"],\n",
        "          \"Rio Grande do Sul\": [\"Santa Catarina\"],\n",
        "          \"Distrito Federal\": [\"Goías\", \"Minas Gerais\"]\n",
        "}"
      ],
      "metadata": {
        "id": "ushv85iw8nwL"
      },
      "execution_count": 2,
      "outputs": []
    },
    {
      "cell_type": "code",
      "source": [
        "#Testes\n",
        "g = Graph(estados)\n",
        "#Print\n",
        "print(\"------------------------------------------\")\n",
        "print(\"O Estado com mais conexões é\", g.max())\n",
        "print(\"O Estado com menos conexões é\", g.min())\n",
        "g.show_edge(g.max())\n",
        "g.show_edge(g.min())\n",
        "print(\"------------------------------------------\")\n",
        "print(\"A frequência de nós é\", g.show_freq())\n",
        "print(\"------------------------------------------\")\n",
        "\n"
      ],
      "metadata": {
        "colab": {
          "base_uri": "https://localhost:8080/"
        },
        "id": "qHjFCQHa80sr",
        "outputId": "65a6bf30-bbad-4d0f-884f-fbf4106a8173"
      },
      "execution_count": 3,
      "outputs": [
        {
          "output_type": "stream",
          "name": "stdout",
          "text": [
            "------------------------------------------\n",
            "O Estado com mais conexões é ['Bahia']\n",
            "O Estado com menos conexões é ['Amapá', 'Rio Grande do Sul']\n",
            "O estado do(a) Bahia faz conexoes com ['Sergipe', 'Alagoas', 'Pernambuco', 'Piauí', 'Tocantis', 'Goías', 'Minas Gerais', 'Espirito Santo']\n",
            "O estado do(a) Amapá faz conexoes com ['Pará']\n",
            "O estado do(a) Rio Grande do Sul faz conexoes com ['Santa Catarina']\n",
            "------------------------------------------\n",
            "A frequência de nós é [[1, 2], [2, 6], [3, 7], [4, 2], [5, 5], [6, 3], [7, 1], [8, 1]]\n",
            "------------------------------------------\n"
          ]
        }
      ]
    }
  ]
}